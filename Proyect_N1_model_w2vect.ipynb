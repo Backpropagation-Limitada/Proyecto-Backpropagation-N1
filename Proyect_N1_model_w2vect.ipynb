{
 "cells": [
  {
   "cell_type": "code",
   "execution_count": 76,
   "metadata": {},
   "outputs": [],
   "source": [
    "from keras.models import Sequential\n",
    "from keras.layers import Dense,LSTM,Embedding,SpatialDropout1D\n",
    "from keras.preprocessing.text import Tokenizer\n",
    "from keras.preprocessing.sequence import pad_sequences\n",
    "from sklearn.preprocessing import LabelEncoder,OneHotEncoder\n",
    "import pandas as pd\n",
    "import numpy as np\n",
    "from sklearn.model_selection import train_test_split"
   ]
  },
  {
   "cell_type": "code",
   "execution_count": 18,
   "metadata": {},
   "outputs": [],
   "source": [
    "datos=pd.read_csv('mercado_mod.csv')"
   ]
  },
  {
   "cell_type": "code",
   "execution_count": 20,
   "metadata": {},
   "outputs": [
    {
     "data": {
      "text/html": [
       "<div>\n",
       "<style scoped>\n",
       "    .dataframe tbody tr th:only-of-type {\n",
       "        vertical-align: middle;\n",
       "    }\n",
       "\n",
       "    .dataframe tbody tr th {\n",
       "        vertical-align: top;\n",
       "    }\n",
       "\n",
       "    .dataframe thead th {\n",
       "        text-align: right;\n",
       "    }\n",
       "</style>\n",
       "<table border=\"1\" class=\"dataframe\">\n",
       "  <thead>\n",
       "    <tr style=\"text-align: right;\">\n",
       "      <th></th>\n",
       "      <th>Unnamed: 0</th>\n",
       "      <th>categoria</th>\n",
       "      <th>item</th>\n",
       "      <th>precio</th>\n",
       "    </tr>\n",
       "  </thead>\n",
       "  <tbody>\n",
       "    <tr>\n",
       "      <th>0</th>\n",
       "      <td>0</td>\n",
       "      <td>catalogos</td>\n",
       "      <td>clar n anuario de autos 2019</td>\n",
       "      <td>449.9</td>\n",
       "    </tr>\n",
       "    <tr>\n",
       "      <th>1</th>\n",
       "      <td>1</td>\n",
       "      <td>catalogos</td>\n",
       "      <td>catalogo de arte 90 a os de la facultad de teo...</td>\n",
       "      <td>135.0</td>\n",
       "    </tr>\n",
       "    <tr>\n",
       "      <th>2</th>\n",
       "      <td>2</td>\n",
       "      <td>catalogos</td>\n",
       "      <td>catalogo de ropa interior lody  2019  nuevo</td>\n",
       "      <td>190.0</td>\n",
       "    </tr>\n",
       "    <tr>\n",
       "      <th>3</th>\n",
       "      <td>3</td>\n",
       "      <td>catalogos</td>\n",
       "      <td>cat logo de arte rupestre jujuy y su regi n   ...</td>\n",
       "      <td>499.0</td>\n",
       "    </tr>\n",
       "    <tr>\n",
       "      <th>4</th>\n",
       "      <td>4</td>\n",
       "      <td>catalogos</td>\n",
       "      <td>catalogo de pinturas al oleo artistas famosos</td>\n",
       "      <td>299.0</td>\n",
       "    </tr>\n",
       "  </tbody>\n",
       "</table>\n",
       "</div>"
      ],
      "text/plain": [
       "   Unnamed: 0  categoria                                               item  \\\n",
       "0           0  catalogos                       clar n anuario de autos 2019   \n",
       "1           1  catalogos  catalogo de arte 90 a os de la facultad de teo...   \n",
       "2           2  catalogos     catalogo de ropa interior lody  2019  nuevo      \n",
       "3           3  catalogos  cat logo de arte rupestre jujuy y su regi n   ...   \n",
       "4           4  catalogos      catalogo de pinturas al oleo artistas famosos   \n",
       "\n",
       "   precio  \n",
       "0   449.9  \n",
       "1   135.0  \n",
       "2   190.0  \n",
       "3   499.0  \n",
       "4   299.0  "
      ]
     },
     "execution_count": 20,
     "metadata": {},
     "output_type": "execute_result"
    }
   ],
   "source": [
    "datos.head()"
   ]
  },
  {
   "cell_type": "code",
   "execution_count": 21,
   "metadata": {},
   "outputs": [],
   "source": [
    "datos=datos[['categoria','item']]"
   ]
  },
  {
   "cell_type": "code",
   "execution_count": 36,
   "metadata": {},
   "outputs": [
    {
     "data": {
      "text/html": [
       "<div>\n",
       "<style scoped>\n",
       "    .dataframe tbody tr th:only-of-type {\n",
       "        vertical-align: middle;\n",
       "    }\n",
       "\n",
       "    .dataframe tbody tr th {\n",
       "        vertical-align: top;\n",
       "    }\n",
       "\n",
       "    .dataframe thead th {\n",
       "        text-align: right;\n",
       "    }\n",
       "</style>\n",
       "<table border=\"1\" class=\"dataframe\">\n",
       "  <thead>\n",
       "    <tr style=\"text-align: right;\">\n",
       "      <th></th>\n",
       "      <th>categoria</th>\n",
       "      <th>item</th>\n",
       "    </tr>\n",
       "  </thead>\n",
       "  <tbody>\n",
       "    <tr>\n",
       "      <th>0</th>\n",
       "      <td>catalogos</td>\n",
       "      <td>clar n anuario de autos 2019</td>\n",
       "    </tr>\n",
       "    <tr>\n",
       "      <th>1</th>\n",
       "      <td>catalogos</td>\n",
       "      <td>catalogo de arte 90 a os de la facultad de teo...</td>\n",
       "    </tr>\n",
       "    <tr>\n",
       "      <th>2</th>\n",
       "      <td>catalogos</td>\n",
       "      <td>catalogo de ropa interior lody  2019  nuevo</td>\n",
       "    </tr>\n",
       "    <tr>\n",
       "      <th>3</th>\n",
       "      <td>catalogos</td>\n",
       "      <td>cat logo de arte rupestre jujuy y su regi n   ...</td>\n",
       "    </tr>\n",
       "    <tr>\n",
       "      <th>4</th>\n",
       "      <td>catalogos</td>\n",
       "      <td>catalogo de pinturas al oleo artistas famosos</td>\n",
       "    </tr>\n",
       "  </tbody>\n",
       "</table>\n",
       "</div>"
      ],
      "text/plain": [
       "   categoria                                               item\n",
       "0  catalogos                       clar n anuario de autos 2019\n",
       "1  catalogos  catalogo de arte 90 a os de la facultad de teo...\n",
       "2  catalogos     catalogo de ropa interior lody  2019  nuevo   \n",
       "3  catalogos  cat logo de arte rupestre jujuy y su regi n   ...\n",
       "4  catalogos      catalogo de pinturas al oleo artistas famosos"
      ]
     },
     "execution_count": 36,
     "metadata": {},
     "output_type": "execute_result"
    }
   ],
   "source": [
    "datos.head()"
   ]
  },
  {
   "cell_type": "code",
   "execution_count": 73,
   "metadata": {},
   "outputs": [],
   "source": [
    "def count_chars(column_df):\n",
    "    ls=[]\n",
    "    for i in column_df:\n",
    "        if str(i).split(\" \") not in ls:\n",
    "\n",
    "            ls.extend(str(i).split(\" \"))\n",
    "    return len(set(ls))"
   ]
  },
  {
   "cell_type": "code",
   "execution_count": 74,
   "metadata": {},
   "outputs": [],
   "source": [
    "maxim=count_chars(datos['item'])"
   ]
  },
  {
   "cell_type": "code",
   "execution_count": 75,
   "metadata": {},
   "outputs": [
    {
     "data": {
      "text/plain": [
       "8088"
      ]
     },
     "execution_count": 75,
     "metadata": {},
     "output_type": "execute_result"
    }
   ],
   "source": [
    "maxim"
   ]
  },
  {
   "cell_type": "code",
   "execution_count": 31,
   "metadata": {},
   "outputs": [],
   "source": [
    "token=Tokenizer(num_words=maxim,split=' ')\n",
    "token.fit_on_texts(datos['item'].values)\n",
    "x=token.texts_to_sequences(datos['item'].values)\n",
    "x=pad_sequences(x)"
   ]
  },
  {
   "cell_type": "code",
   "execution_count": 68,
   "metadata": {},
   "outputs": [],
   "source": [
    "lis=[x for x in datos['categoria']]\n",
    "Y=LabelEncoder()\n",
    "Y=Y.fit(np.asarray(lis))\n",
    "Y=Y.transform(np.asarray(lis))"
   ]
  },
  {
   "cell_type": "code",
   "execution_count": 69,
   "metadata": {},
   "outputs": [
    {
     "name": "stdout",
     "output_type": "stream",
     "text": [
      "5400\n"
     ]
    }
   ],
   "source": [
    "clases={}\n",
    "for i in range(len(Y)):\n",
    "    clases[Y[i]]=lis[i]\n",
    "print(len(Y))"
   ]
  },
  {
   "cell_type": "code",
   "execution_count": 94,
   "metadata": {},
   "outputs": [
    {
     "data": {
      "text/plain": [
       "{0: 'catalogos',\n",
       " 1: 'comics-historietas',\n",
       " 2: 'libros',\n",
       " 3: 'manga',\n",
       " 5: 'revistas',\n",
       " 4: 'otros'}"
      ]
     },
     "execution_count": 94,
     "metadata": {},
     "output_type": "execute_result"
    }
   ],
   "source": [
    "clases"
   ]
  },
  {
   "cell_type": "code",
   "execution_count": 70,
   "metadata": {},
   "outputs": [
    {
     "data": {
      "text/plain": [
       "5400"
      ]
     },
     "execution_count": 70,
     "metadata": {},
     "output_type": "execute_result"
    }
   ],
   "source": [
    "Y=Y.reshape(Y.shape[0],1).astype('float32')\n",
    "len(Y)"
   ]
  },
  {
   "cell_type": "code",
   "execution_count": 71,
   "metadata": {},
   "outputs": [
    {
     "name": "stderr",
     "output_type": "stream",
     "text": [
      "C:\\Users\\Stalker\\Anaconda3\\lib\\site-packages\\sklearn\\preprocessing\\_encoders.py:368: FutureWarning: The handling of integer data will change in version 0.22. Currently, the categories are determined based on the range [0, max(values)], while in the future they will be determined based on the unique values.\n",
      "If you want the future behaviour and silence this warning, you can specify \"categories='auto'\".\n",
      "In case you used a LabelEncoder before this OneHotEncoder to convert the categories to integers, then you can now use the OneHotEncoder directly.\n",
      "  warnings.warn(msg, FutureWarning)\n"
     ]
    },
    {
     "data": {
      "text/plain": [
       "array([[1., 0., 0., 0., 0., 0.],\n",
       "       [1., 0., 0., 0., 0., 0.],\n",
       "       [1., 0., 0., 0., 0., 0.],\n",
       "       ...,\n",
       "       [0., 0., 0., 0., 1., 0.],\n",
       "       [0., 0., 0., 0., 1., 0.],\n",
       "       [0., 0., 0., 0., 1., 0.]])"
      ]
     },
     "execution_count": 71,
     "metadata": {},
     "output_type": "execute_result"
    }
   ],
   "source": [
    "\n",
    "y=OneHotEncoder(categorical_features=[0])\n",
    "y=y.fit_transform(Y).toarray()\n",
    "y"
   ]
  },
  {
   "cell_type": "code",
   "execution_count": 97,
   "metadata": {},
   "outputs": [],
   "source": [
    "x_train,x_test,y_train,y_test=train_test_split(x,y,test_size=0.25,random_state=55)\n"
   ]
  },
  {
   "cell_type": "code",
   "execution_count": 98,
   "metadata": {},
   "outputs": [
    {
     "data": {
      "text/plain": [
       "6"
      ]
     },
     "execution_count": 98,
     "metadata": {},
     "output_type": "execute_result"
    }
   ],
   "source": [
    "y.shape[1]"
   ]
  },
  {
   "cell_type": "code",
   "execution_count": 100,
   "metadata": {},
   "outputs": [],
   "source": [
    "model=Sequential()\n",
    "model.add(Embedding(maxim,104,input_length=x.shape[1]))\n",
    "model.add(SpatialDropout1D(0.5))\n",
    "model.add(LSTM(90,dropout=0.2,recurrent_dropout=0.2))\n",
    "model.add(Dense(6,activation='softmax'))\n",
    "model.compile(optimizer='adam',loss='categorical_crossentropy',metrics=['accuracy'])"
   ]
  },
  {
   "cell_type": "code",
   "execution_count": 101,
   "metadata": {},
   "outputs": [
    {
     "name": "stdout",
     "output_type": "stream",
     "text": [
      "Epoch 1/15\n",
      "4050/4050 [==============================] - 9s 2ms/step - loss: 1.6337 - acc: 0.3346\n",
      "Epoch 2/15\n",
      "4050/4050 [==============================] - 6s 2ms/step - loss: 0.9698 - acc: 0.6514\n",
      "Epoch 3/15\n",
      "4050/4050 [==============================] - 6s 2ms/step - loss: 0.6095 - acc: 0.7993\n",
      "Epoch 4/15\n",
      "4050/4050 [==============================] - 6s 2ms/step - loss: 0.4135 - acc: 0.8625\n",
      "Epoch 5/15\n",
      "4050/4050 [==============================] - 6s 2ms/step - loss: 0.2932 - acc: 0.9114A: 0s - loss: 0.2966 - ac\n",
      "Epoch 6/15\n",
      "4050/4050 [==============================] - 6s 2ms/step - loss: 0.2138 - acc: 0.9402\n",
      "Epoch 7/15\n",
      "4050/4050 [==============================] - 6s 2ms/step - loss: 0.1557 - acc: 0.9516A: 2s - \n",
      "Epoch 8/15\n",
      "4050/4050 [==============================] - 7s 2ms/step - loss: 0.1271 - acc: 0.9595\n",
      "Epoch 9/15\n",
      "4050/4050 [==============================] - 7s 2ms/step - loss: 0.0986 - acc: 0.9691\n",
      "Epoch 10/15\n",
      "4050/4050 [==============================] - 7s 2ms/step - loss: 0.0919 - acc: 0.9728\n",
      "Epoch 11/15\n",
      "4050/4050 [==============================] - 7s 2ms/step - loss: 0.0727 - acc: 0.9760\n",
      "Epoch 12/15\n",
      "4050/4050 [==============================] - 7s 2ms/step - loss: 0.0699 - acc: 0.9775A: \n",
      "Epoch 13/15\n",
      "4050/4050 [==============================] - 7s 2ms/step - loss: 0.0647 - acc: 0.9798A: 6s - loss: 0 - ETA: 0s - loss: 0.0639 - a\n",
      "Epoch 14/15\n",
      "4050/4050 [==============================] - 7s 2ms/step - loss: 0.0654 - acc: 0.9780\n",
      "Epoch 15/15\n",
      "4050/4050 [==============================] - 7s 2ms/step - loss: 0.0530 - acc: 0.9832\n"
     ]
    }
   ],
   "source": [
    "historial=model.fit(x_train,y_train,epochs=15,batch_size=55)"
   ]
  },
  {
   "cell_type": "code",
   "execution_count": 102,
   "metadata": {},
   "outputs": [
    {
     "name": "stdout",
     "output_type": "stream",
     "text": [
      "1350/1350 [==============================] - 1s 679us/step\n"
     ]
    }
   ],
   "source": [
    "evalue=model.evaluate(x_test,y_test)"
   ]
  },
  {
   "cell_type": "code",
   "execution_count": 104,
   "metadata": {},
   "outputs": [
    {
     "name": "stdout",
     "output_type": "stream",
     "text": [
      "score: 0.8033165768340782 acc: 0.7814814815697847\n"
     ]
    }
   ],
   "source": [
    "print('score:',evalue[0],'acc:',evalue[1])"
   ]
  },
  {
   "cell_type": "code",
   "execution_count": 112,
   "metadata": {},
   "outputs": [
    {
     "name": "stdout",
     "output_type": "stream",
     "text": [
      "que desea vender? : catalogo muñequitos de los power rangers\n",
      "catalogos\n",
      "que desea vender? : libro de cocina vegana\n",
      "libros\n",
      "que desea vender? : avengers n 1 \n",
      "comics-historietas\n",
      "que desea vender? : comic,los vengadores en chino\n",
      "comics-historietas\n",
      "que desea vender? : los vengadores idima chino\n",
      "comics-historietas\n",
      "que desea vender? : viñetas eculturadas n 1\n",
      "comics-historietas\n",
      "que desea vender? : lalalala\n",
      "otros\n",
      "que desea vender? : leo leo lolo\n",
      "otros\n",
      "que desea vender? : papa\n",
      "otros\n",
      "que desea vender? : El alfarero de troya tomo 1\n",
      "manga\n",
      "que desea vender? : historias del mas alla\n",
      "otros\n",
      "que desea vender? : el quijote\n",
      "otros\n",
      "que desea vender? : el quijote completo en castellano\n",
      "comics-historietas\n",
      "que desea vender? : naruto shipuden\n",
      "manga\n",
      "que desea vender? : dragon ball z\n",
      "manga\n",
      "que desea vender? : la santa biblia\n",
      "libros\n",
      "que desea vender? : el diario de anna frank\n",
      "libros\n",
      "que desea vender? : break\n",
      "otros\n",
      "que desea vender? : romper\n",
      "otros\n"
     ]
    }
   ],
   "source": [
    "while True:\n",
    "    \n",
    "    predict=input(\"que desea vender? : \")\n",
    "    words=token.texts_to_sequences([predict])\n",
    "    words=pad_sequences(words,maxlen=x.shape[1],dtype='int32',value=0)\n",
    "    print(clases[int(model.predict_classes(words))])\n",
    "    if predict == 'romper':\n",
    "        break"
   ]
  },
  {
   "cell_type": "code",
   "execution_count": 113,
   "metadata": {},
   "outputs": [],
   "source": [
    "import matplotlib.pyplot as plt"
   ]
  },
  {
   "cell_type": "code",
   "execution_count": 114,
   "metadata": {},
   "outputs": [
    {
     "data": {
      "image/png": "[encoded data removed]",
      "text/plain": [
       "<Figure size 432x288 with 1 Axes>"
      ]
     },
     "metadata": {
      "needs_background": "light"
     },
     "output_type": "display_data"
    }
   ],
   "source": [
    "plt.grid(True)\n",
    "plt.plot(historial.history['loss'],'r',label='loss')\n",
    "plt.plot(historial.history['acc'],'g',label='acc')\n",
    "plt.legend()\n",
    "plt.show()"
   ]
  },
  {
   "cell_type": "code",
   "execution_count": 119,
   "metadata": {},
   "outputs": [
    {
     "data": {
      "image/png": "[encoded data removed]",
      "text/plain": [
       "<Figure size 432x288 with 1 Axes>"
      ]
     },
     "metadata": {
      "needs_background": "light"
     },
     "output_type": "display_data"
    }
   ],
   "source": [
    "plt.grid(True)\n",
    "plt.plot(evalue[0],'ro',label='test score')\n",
    "plt.plot(evalue[1],'gv',label='test acc')\n",
    "plt.legend()\n",
    "plt.show()"
   ]
  },
  {
   "cell_type": "code",
   "execution_count": null,
   "metadata": {},
   "outputs": [],
   "source": []
  }
 ],
 "metadata": {
  "kernelspec": {
   "display_name": "Python 3",
   "language": "python",
   "name": "python3"
  },
  "language_info": {
   "codemirror_mode": {
    "name": "ipython",
    "version": 3
   },
   "file_extension": ".py",
   "mimetype": "text/x-python",
   "name": "python",
   "nbconvert_exporter": "python",
   "pygments_lexer": "ipython3",
   "version": "3.6.8"
  }
 },
 "nbformat": 4,
 "nbformat_minor": 2
}
